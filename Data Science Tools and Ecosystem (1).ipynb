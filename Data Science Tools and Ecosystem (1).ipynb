{
 "cells": [
  {
   "cell_type": "markdown",
   "metadata": {},
   "source": [
    "<center>\n",
    "    <img src=\"https://cf-courses-data.s3.us.cloud-object-storage.appdomain.cloud/IBMDeveloperSkillsNetwork-DS0105EN-SkillsNetwork/labs/Module2/images/SN_web_lightmode.png\" width=\"300\" alt=\"cognitiveclass.ai logo\">\n",
    "</center>\n"
   ]
  },
  {
   "cell_type": "markdown",
   "metadata": {},
   "source": [
    "##Data Science Tools and Ecosystem\n",
    "#In this notebook, Data Science Tools and Ecosystem are summarized\n",
    "#Some of the popular languages that Data Scientists use are:\n",
    "#### \n",
    "1. **Python**   \n",
    "   - Widely used for data analysis, machine learning, and automation.  \n",
    "   - Popular libraries: `pandas`, `NumPy`, `scikit-learn`, `TensorFlow`, `Matplotlib`.\n",
    "\n",
    "2. **R**  \n",
    "   - Great for statistical analysis and creating detailed visualizations.  \n",
    "   - Popular packages: `ggplot2`, `dplyr`, `caret`, `shiny`.\n",
    "\n",
    "3. **SQL**   \n",
    "   - Essential for querying structured data in relational databases.  \n",
    "   - Common tools: `MySQL`, `PostgreSQL`, `SQLite`.\n",
    "\n",
    "4. **Java / Scala**  \n",
    "   - Used in big data frameworks like `Apache Spark` and `Hadoop`.  \n",
    "   - Good for scalable, high-performance systems.\n",
    "\n",
    "5. **Julia**   \n",
    "   - High-performance, dynamic language tailored for scientific computing and ML.  \n",
    "   - Great for tasks where speed really matters.##\n",
    "#Some of the commonly used libraries used by Data Scientists include:\n",
    "##### Commonly Used Libraries in Data Science \n",
    "\n",
    "1. **pandas**   \n",
    "   - For data manipulation and analysis; makes working with tabular data a breeze.\n",
    "\n",
    "2. **NumPy**   \n",
    "   - Adds support for large, multi-dimensional arrays and high-level mathematical functions.\n",
    "\n",
    "3. **Matplotlib** / **Seaborn**  \n",
    "   - For data visualization. `Matplotlib` is the OG, while `Seaborn` builds on it for prettier plots.\n",
    "\n",
    "4. **scikit-learn**   \n",
    "   - Powerful and simple tools for machine learning and data mining.\n",
    "\n",
    "5. **TensorFlow** / **PyTorch**   \n",
    "   - Deep learning frameworks used to build and train neural networks.\n",
    "#Data Science Tools\n",
    "### Open-Source Development Environments for Data Science \n",
    "\n",
    "| Tool               | Description                                                 | Popular Use Case                     |\n",
    "|--------------------|-------------------------------------------------------------|--------------------------------------|\n",
    "| Jupyter Notebook   | Web-based interactive environment for code + markdown + plots | Ideal for EDA, prototyping, teaching |\n",
    "| VS Code            | Lightweight, extensible code editor with rich plugin support | Python scripting, full-stack dev     |\n",
    "| RStudio            | Integrated development environment for R                     | Statistical analysis, R programming  |\n",
    "#Below are a few examples of evaluating arithmetic expressions in Python.\n",
    "\n",
    "\n",
    "# This is a simple arithmetic expression to multiply then add integers\n",
    "(3 * 4) + 5\n",
    "                                             \n",
    "# This will convert 200 minutes to hours by dividing by 60\n",
    "200 / 60\n",
    "##**Objectives:**\n",
    "\n",
    "- List popular languages for Data Science  \n",
    "- Identify commonly used libraries in Data Science  \n",
    "- Explore open-source development environments for Data Science  \n",
    "- Evaluate simple arithmetic expressions using Python  \n",
    "- Convert time values using Python expressions\n",
    "\n",
    "### Author\n",
    "\n",
    "harini chandran\n"
   ]
  }
 ],
 "metadata": {
  "kernelspec": {
   "display_name": "Python 3 (ipykernel)",
   "language": "python",
   "name": "python3"
  },
  "language_info": {
   "codemirror_mode": {
    "name": "ipython",
    "version": 3
   },
   "file_extension": ".py",
   "mimetype": "text/x-python",
   "name": "python",
   "nbconvert_exporter": "python",
   "pygments_lexer": "ipython3",
   "version": "3.12.8"
  }
 },
 "nbformat": 4,
 "nbformat_minor": 4
}
